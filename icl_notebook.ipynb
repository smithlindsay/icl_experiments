{
 "cells": [
  {
   "cell_type": "code",
   "execution_count": 85,
   "metadata": {},
   "outputs": [],
   "source": [
    "import sys\n",
    "sys.path.insert(1, '/scratch/gpfs/ls1546/icl_experiments/')"
   ]
  },
  {
   "cell_type": "code",
   "execution_count": 86,
   "metadata": {},
   "outputs": [],
   "source": [
    "import torch\n",
    "import numpy as np\n",
    "import matplotlib.pyplot as plt\n",
    "import torchvision.transforms as transforms\n",
    "import torchvision.datasets as datasets\n",
    "import torch.nn as nn\n",
    "import torch.nn.functional as F\n",
    "import embedding\n",
    "import transformer\n",
    "import dataset_utils\n",
    "from tqdm.auto import tqdm"
   ]
  },
  {
   "cell_type": "code",
   "execution_count": 87,
   "metadata": {},
   "outputs": [],
   "source": [
    "#load MNIST\n",
    "transform=transforms.Compose([\n",
    "        transforms.ToTensor(),\n",
    "        transforms.Normalize((0.1307,), (0.3081,))\n",
    "        ])\n",
    "train_data = datasets.MNIST('../data', train=True, download=True,\n",
    "                    transform=transform)\n",
    "test_data = datasets.MNIST('../data', train=False,\n",
    "                    transform=transform)"
   ]
  },
  {
   "cell_type": "code",
   "execution_count": 88,
   "metadata": {},
   "outputs": [],
   "source": [
    "#augment MNIST with multiple tasks\n",
    "n_tasks = 4\n",
    "# task_gen = dataset_utils.RandomTasks(train_data, num_tasks=n_tasks)\n",
    "\n",
    "# these will be the num of seeds we send into get_transformed_batch"
   ]
  },
  {
   "cell_type": "code",
   "execution_count": 89,
   "metadata": {},
   "outputs": [
    {
     "data": {
      "text/plain": [
       "2400"
      ]
     },
     "execution_count": 89,
     "metadata": {},
     "output_type": "execute_result"
    }
   ],
   "source": [
    "batch_size = 32\n",
    "lr = 3e-4\n",
    "momentum = 0.9\n",
    "steps = 2000\n",
    "seq_len = 50 #this is what we previously called \"batch_size\"\n",
    "trainloader = torch.utils.data.DataLoader(train_data, batch_size=seq_len, shuffle=True)\n",
    "total_steps = int(np.ceil(steps/len(trainloader)))*len(trainloader)\n",
    "log_freq = 100\n",
    "device = 'cuda'\n",
    "total_steps"
   ]
  },
  {
   "cell_type": "code",
   "execution_count": 80,
   "metadata": {},
   "outputs": [
    {
     "name": "stdout",
     "output_type": "stream",
     "text": [
      "using flash attention\n",
      "Embedding Transformer with 816332 parameters, 210360 parameters in embedder & 604682 parameters in transformer\n"
     ]
    }
   ],
   "source": [
    "#instantiate model\n",
    "model = transformer.ImageICLTransformer(d_model=64,device='cuda',block_size=100)\n",
    "print(model)"
   ]
  },
  {
   "cell_type": "code",
   "execution_count": 81,
   "metadata": {},
   "outputs": [
    {
     "data": {
      "application/vnd.jupyter.widget-view+json": {
       "model_id": "ea6f80a01a3a48389ee2744a5780cd52",
       "version_major": 2,
       "version_minor": 0
      },
      "text/plain": [
       "  0%|          | 0/2 [00:00<?, ?it/s]"
      ]
     },
     "metadata": {},
     "output_type": "display_data"
    },
    {
     "data": {
      "application/vnd.jupyter.widget-view+json": {
       "model_id": "ee7f950d89144a649023c65481c3978a",
       "version_major": 2,
       "version_minor": 0
      },
      "text/plain": [
       "  0%|          | 0/1200 [00:00<?, ?it/s]"
      ]
     },
     "metadata": {},
     "output_type": "display_data"
    },
    {
     "data": {
      "application/vnd.jupyter.widget-view+json": {
       "model_id": "6d6c2b15cba64c8fbd1b13fc38bdebe8",
       "version_major": 2,
       "version_minor": 0
      },
      "text/plain": [
       "  0%|          | 0/1200 [00:00<?, ?it/s]"
      ]
     },
     "metadata": {},
     "output_type": "display_data"
    }
   ],
   "source": [
    "#train the model to do MNIST classification\n",
    "\n",
    "model = model.to(device)\n",
    "\n",
    "optimizer = torch.optim.AdamW(model.parameters(), lr=lr)\n",
    "criterion = torch.nn.CrossEntropyLoss()\n",
    "lr_scheduler = torch.optim.lr_scheduler.MultiStepLR(optimizer, milestones=[50])\n",
    "\n",
    "loss_history = [0]*total_steps\n",
    "model.train()\n",
    "data_avg_t = 0\n",
    "loss_avg_t = 0\n",
    "\n",
    "# here, our \"batch_size\" is actually the sequence length since we want to draw seq_length samples from the dataset, and then transform them batch_num times, where each transformation is a different task\n",
    "# the batch should have shape: (batch_size,seq_len,1,28,28),\n",
    "# right now it has shape: (seq_len,1,28,28), and we will add in the batch dimension in the loop below\n",
    "step = 0\n",
    "task_list = []\n",
    "for epoch in tqdm(range(int(np.ceil(total_steps/len(trainloader))))):\n",
    "    for images, labels in tqdm(trainloader):\n",
    "        start = torch.cuda.Event(enable_timing=True)\n",
    "        end = torch.cuda.Event(enable_timing=True)\n",
    "        start.record()\n",
    "        # images, labels = task_gen.get_batch(batch_size,seq_len=seq_len,device=device)\n",
    "        \n",
    "        # add batch dimension\n",
    "        images = torch.unsqueeze(images, 0).to(device)\n",
    "        labels = torch.unsqueeze(labels, 0).to(device)\n",
    "        # transform a batch, using a randomly selected task num from our list of n_tasks for each sequence in the batch, concatenated along the batch dimension\n",
    "        for i in range(batch_size):\n",
    "            if i == 0:\n",
    "                temp_images, temp_labels, curr_seed = dataset_utils.get_transformed_batch(images, labels, seed=np.random.randint(n_tasks))\n",
    "            else:\n",
    "                temp2_images, temp2_labels, curr_seed = dataset_utils.get_transformed_batch(images, labels, seed=np.random.randint(n_tasks))\n",
    "                temp_images = torch.cat((temp_images, temp2_images), 0)\n",
    "                temp_labels = torch.cat((temp_labels, temp2_labels), 0)\n",
    "            task_list.append(curr_seed)\n",
    "        end.record()\n",
    "        torch.cuda.synchronize()\n",
    "        data_avg_t += start.elapsed_time(end)\n",
    "        images = temp_images\n",
    "        labels = temp_labels\n",
    "        del temp_images, temp_labels, temp2_images, temp2_labels\n",
    "\n",
    "        start = torch.cuda.Event(enable_timing=True)\n",
    "        end = torch.cuda.Event(enable_timing=True)\n",
    "\n",
    "        start.record()\n",
    "        optimizer.zero_grad()\n",
    "        outputs = model((images,labels))\n",
    "        pred = outputs[:,-1,:]\n",
    "        loss = criterion(pred,labels[:,-1])\n",
    "        loss.backward()\n",
    "        optimizer.step()\n",
    "        end.record()\n",
    "        torch.cuda.synchronize()\n",
    "        loss_avg_t += start.elapsed_time(end)\n",
    "        loss_history[step] = loss.item()\n",
    "        step += 1"
   ]
  },
  {
   "cell_type": "code",
   "execution_count": 82,
   "metadata": {},
   "outputs": [
    {
     "name": "stdout",
     "output_type": "stream",
     "text": [
      "\n",
      "DATA:  107.71286429405212\n",
      "LOSS:  221.5931656519572\n"
     ]
    },
    {
     "data": {
      "image/png": "[encoded data removed]",
      "text/plain": [
       "<Figure size 640x480 with 1 Axes>"
      ]
     },
     "metadata": {},
     "output_type": "display_data"
    }
   ],
   "source": [
    "loss_history = np.array(loss_history)[:step]\n",
    "plt.plot(loss_history)\n",
    "print(\"\\nDATA: \", data_avg_t/total_steps)\n",
    "print(\"LOSS: \", loss_avg_t/total_steps)"
   ]
  },
  {
   "cell_type": "code",
   "execution_count": 83,
   "metadata": {},
   "outputs": [],
   "source": [
    "def test_model(model, test_data, n_tasks, batch_size=32, seq_len=50, device='cuda'):\n",
    "    correct = 0\n",
    "    model.eval()\n",
    "    \n",
    "    test_task_list = []\n",
    "    testloader = torch.utils.data.DataLoader(test_data, batch_size=seq_len, shuffle=False)\n",
    "    num_batch = len(testloader)\n",
    "\n",
    "    for images, labels in tqdm(testloader):\n",
    "        # add batch dimension\n",
    "        images = torch.unsqueeze(images, 0).to(device)\n",
    "        labels = torch.unsqueeze(labels, 0).to(device)\n",
    "        for batch in range(batch_size):\n",
    "            if batch == 0:\n",
    "                temp_images, temp_labels, curr_seed = dataset_utils.get_transformed_batch(images, labels, seed=np.random.randint(n_tasks))\n",
    "            else:\n",
    "                temp2_images, temp2_labels, curr_seed = dataset_utils.get_transformed_batch(images, labels, seed=np.random.randint(n_tasks))\n",
    "                temp_images = torch.cat((temp_images, temp2_images), 0)\n",
    "                temp_labels = torch.cat((temp_labels, temp2_labels), 0)\n",
    "            test_task_list.append(curr_seed)\n",
    "\n",
    "        images = temp_images\n",
    "        labels = temp_labels\n",
    "        del temp_images, temp_labels, temp2_images, temp2_labels\n",
    "\n",
    "        outputs = model((images,labels))\n",
    "        pred = outputs[:,-1,:]\n",
    "        loss = criterion(pred,labels[:,-1])\n",
    "        _, predicted = torch.max(pred, 1)\n",
    "        correct += (predicted == labels[:,-1]).sum()\n",
    "    accuracy = 100 * (correct.item()) / (batch_size*num_batch)\n",
    "    print(correct.item())\n",
    "    print(accuracy)"
   ]
  },
  {
   "cell_type": "code",
   "execution_count": 84,
   "metadata": {},
   "outputs": [
    {
     "data": {
      "application/vnd.jupyter.widget-view+json": {
       "model_id": "6be67cdc95bd4effab34b8abf9a1bc1c",
       "version_major": 2,
       "version_minor": 0
      },
      "text/plain": [
       "  0%|          | 0/200 [00:00<?, ?it/s]"
      ]
     },
     "metadata": {},
     "output_type": "display_data"
    },
    {
     "name": "stdout",
     "output_type": "stream",
     "text": [
      "1104\n",
      "17.25\n"
     ]
    }
   ],
   "source": [
    "test_model(model, test_data, n_tasks, batch_size=32, seq_len=seq_len, device='cuda')"
   ]
  },
  {
   "cell_type": "code",
   "execution_count": null,
   "metadata": {},
   "outputs": [],
   "source": []
  }
 ],
 "metadata": {
  "kernelspec": {
   "display_name": "Python 3 (ipykernel)",
   "language": "python",
   "name": "python3"
  }
 },
 "nbformat": 4,
 "nbformat_minor": 4
}
