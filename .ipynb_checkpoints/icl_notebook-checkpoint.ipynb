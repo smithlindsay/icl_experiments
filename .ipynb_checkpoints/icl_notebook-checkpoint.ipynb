{
 "cells": [
  {
   "cell_type": "code",
   "execution_count": 1,
   "metadata": {},
   "outputs": [],
   "source": [
    "import sys\n",
    "sys.path.insert(1, '/scratch/gpfs/ls1546/icl_experiments/')"
   ]
  },
  {
   "cell_type": "code",
   "execution_count": 2,
   "metadata": {},
   "outputs": [],
   "source": [
    "import torch\n",
    "import numpy as np\n",
    "import matplotlib.pyplot as plt\n",
    "import torchvision.transforms as transforms\n",
    "import torchvision.datasets as datasets\n",
    "import torch.nn as nn\n",
    "import torch.nn.functional as F\n",
    "import embedding\n",
    "import transformer\n",
    "import dataset_utils\n",
    "from tqdm import tqdm"
   ]
  },
  {
   "cell_type": "code",
   "execution_count": 3,
   "metadata": {},
   "outputs": [],
   "source": [
    "#load MNIST\n",
    "transform=transforms.Compose([\n",
    "        transforms.ToTensor(),\n",
    "        transforms.Normalize((0.1307,), (0.3081,))\n",
    "        ])\n",
    "train_data = datasets.MNIST('../data', train=True, download=True,\n",
    "                    transform=transform)\n",
    "test_data = datasets.MNIST('../data', train=False,\n",
    "                    transform=transform)"
   ]
  },
  {
   "cell_type": "code",
   "execution_count": 4,
   "metadata": {},
   "outputs": [],
   "source": [
    "#augment MNIST with multiple tasks\n",
    "n_tasks = 4\n",
    "# task_gen = dataset_utils.RandomTasks(train_data, num_tasks=n_tasks)\n",
    "\n",
    "# these will be the num of seeds we send into get_transformed_batch"
   ]
  },
  {
   "cell_type": "code",
   "execution_count": 5,
   "metadata": {},
   "outputs": [],
   "source": [
    "batch_size = 32\n",
    "lr = 3e-4\n",
    "momentum = 0.9\n",
    "steps = 2000\n",
    "log_freq = 100\n",
    "device = 'cuda'\n",
    "seq_len = 50 #this is what we previously called \"batch_size\""
   ]
  },
  {
   "cell_type": "code",
   "execution_count": 6,
   "metadata": {},
   "outputs": [
    {
     "name": "stdout",
     "output_type": "stream",
     "text": [
      "using flash attention\n",
      "Embedding Transformer with 816332 parameters, 210360 parameters in embedder & 604682 parameters in transformer\n"
     ]
    }
   ],
   "source": [
    "#instantiate model\n",
    "model = transformer.ImageICLTransformer(d_model=64,device='cuda',block_size=100)\n",
    "print(model)"
   ]
  },
  {
   "cell_type": "code",
   "execution_count": 7,
   "metadata": {},
   "outputs": [
    {
     "name": "stderr",
     "output_type": "stream",
     "text": [
      "  0%|                                                                                                                                                    | 0/1200 [00:01<?, ?it/s]\n"
     ]
    },
    {
     "ename": "OutOfMemoryError",
     "evalue": "CUDA out of memory. Tried to allocate 9.57 GiB. GPU 0 has a total capacity of 39.56 GiB of which 8.36 GiB is free. Process 3156262 has 416.00 MiB memory in use. Process 3234251 has 416.00 MiB memory in use. Process 3416341 has 7.46 GiB memory in use. Process 3521575 has 416.00 MiB memory in use. Process 2396121 has 416.00 MiB memory in use. Process 3576273 has 418.00 MiB memory in use. Process 79421 has 416.00 MiB memory in use. Process 260512 has 1.50 GiB memory in use. Including non-PyTorch memory, this process has 19.68 GiB memory in use. Of the allocated memory 14.41 GiB is allocated by PyTorch, and 4.78 GiB is reserved by PyTorch but unallocated. If reserved but unallocated memory is large try setting PYTORCH_CUDA_ALLOC_CONF=expandable_segments:True to avoid fragmentation.  See documentation for Memory Management  (https://pytorch.org/docs/stable/notes/cuda.html#environment-variables)",
     "output_type": "error",
     "traceback": [
      "\u001b[0;31m---------------------------------------------------------------------------\u001b[0m",
      "\u001b[0;31mOutOfMemoryError\u001b[0m                          Traceback (most recent call last)",
      "Cell \u001b[0;32mIn[7], line 36\u001b[0m\n\u001b[1;32m     34\u001b[0m     images, labels, curr_seed \u001b[38;5;241m=\u001b[39m dataset_utils\u001b[38;5;241m.\u001b[39mget_transformed_batch(images, labels, seed\u001b[38;5;241m=\u001b[39mnp\u001b[38;5;241m.\u001b[39mrandom\u001b[38;5;241m.\u001b[39mrandint(n_tasks))\n\u001b[1;32m     35\u001b[0m \u001b[38;5;28;01melse\u001b[39;00m:\n\u001b[0;32m---> 36\u001b[0m     temp_images, temp_labels, curr_seed \u001b[38;5;241m=\u001b[39m \u001b[43mdataset_utils\u001b[49m\u001b[38;5;241;43m.\u001b[39;49m\u001b[43mget_transformed_batch\u001b[49m\u001b[43m(\u001b[49m\u001b[43mimages\u001b[49m\u001b[43m,\u001b[49m\u001b[43m \u001b[49m\u001b[43mlabels\u001b[49m\u001b[43m,\u001b[49m\u001b[43m \u001b[49m\u001b[43mseed\u001b[49m\u001b[38;5;241;43m=\u001b[39;49m\u001b[43mnp\u001b[49m\u001b[38;5;241;43m.\u001b[39;49m\u001b[43mrandom\u001b[49m\u001b[38;5;241;43m.\u001b[39;49m\u001b[43mrandint\u001b[49m\u001b[43m(\u001b[49m\u001b[43mn_tasks\u001b[49m\u001b[43m)\u001b[49m\u001b[43m)\u001b[49m\n\u001b[1;32m     37\u001b[0m     images \u001b[38;5;241m=\u001b[39m torch\u001b[38;5;241m.\u001b[39mcat((images, temp_images), \u001b[38;5;241m0\u001b[39m)\n\u001b[1;32m     38\u001b[0m     labels \u001b[38;5;241m=\u001b[39m torch\u001b[38;5;241m.\u001b[39mcat((labels, temp_labels), \u001b[38;5;241m0\u001b[39m)\n",
      "File \u001b[0;32m/scratch/gpfs/ls1546/icl_experiments/dataset_utils.py:135\u001b[0m, in \u001b[0;36mget_transformed_batch\u001b[0;34m(images, labels, seed)\u001b[0m\n\u001b[1;32m    132\u001b[0m perm \u001b[38;5;241m=\u001b[39m torch\u001b[38;5;241m.\u001b[39mrandperm(labels\u001b[38;5;241m.\u001b[39mshape[\u001b[38;5;241m0\u001b[39m], generator\u001b[38;5;241m=\u001b[39mgen)\n\u001b[1;32m    134\u001b[0m \u001b[38;5;66;03m# matmul will broadcast the transform_mtx to each image in the batch\u001b[39;00m\n\u001b[0;32m--> 135\u001b[0m transform_images \u001b[38;5;241m=\u001b[39m \u001b[43mtorch\u001b[49m\u001b[38;5;241;43m.\u001b[39;49m\u001b[43mmatmul\u001b[49m\u001b[43m(\u001b[49m\u001b[43mimages\u001b[49m\u001b[38;5;241;43m.\u001b[39;49m\u001b[43mview\u001b[49m\u001b[43m(\u001b[49m\u001b[38;5;241;43m-\u001b[39;49m\u001b[38;5;241;43m1\u001b[39;49m\u001b[43m,\u001b[49m\u001b[43m \u001b[49m\u001b[43mnx\u001b[49m\u001b[43m)\u001b[49m\u001b[43m,\u001b[49m\u001b[43m \u001b[49m\u001b[43mtransform_mtx\u001b[49m\u001b[43m)\u001b[49m\u001b[38;5;241m.\u001b[39mview(images\u001b[38;5;241m.\u001b[39mshape)\u001b[38;5;241m.\u001b[39mto(device)\n\u001b[1;32m    136\u001b[0m perm_labels \u001b[38;5;241m=\u001b[39m labels[perm]\n\u001b[1;32m    138\u001b[0m \u001b[38;5;28;01mreturn\u001b[39;00m transform_images, perm_labels, seed\n",
      "\u001b[0;31mOutOfMemoryError\u001b[0m: CUDA out of memory. Tried to allocate 9.57 GiB. GPU 0 has a total capacity of 39.56 GiB of which 8.36 GiB is free. Process 3156262 has 416.00 MiB memory in use. Process 3234251 has 416.00 MiB memory in use. Process 3416341 has 7.46 GiB memory in use. Process 3521575 has 416.00 MiB memory in use. Process 2396121 has 416.00 MiB memory in use. Process 3576273 has 418.00 MiB memory in use. Process 79421 has 416.00 MiB memory in use. Process 260512 has 1.50 GiB memory in use. Including non-PyTorch memory, this process has 19.68 GiB memory in use. Of the allocated memory 14.41 GiB is allocated by PyTorch, and 4.78 GiB is reserved by PyTorch but unallocated. If reserved but unallocated memory is large try setting PYTORCH_CUDA_ALLOC_CONF=expandable_segments:True to avoid fragmentation.  See documentation for Memory Management  (https://pytorch.org/docs/stable/notes/cuda.html#environment-variables)"
     ]
    }
   ],
   "source": [
    "#train the model to do MNIST classification\n",
    "\n",
    "model = model.to(device)\n",
    "\n",
    "optimizer = torch.optim.AdamW(model.parameters(), lr=lr)\n",
    "criterion = torch.nn.CrossEntropyLoss()\n",
    "lr_scheduler = torch.optim.lr_scheduler.MultiStepLR(optimizer, milestones=[50])\n",
    "\n",
    "loss_history = [0]*steps\n",
    "model.train()\n",
    "data_avg_t = 0\n",
    "loss_avg_t = 0\n",
    "\n",
    "# here, our \"batch_size\" is actually the sequence length since we want to draw seq_length samples from the dataset, and then transform them batch_num times, where each transformation is a different task\n",
    "# the batch should have shape: (batch_size,seq_len,1,28,28),\n",
    "# right now it has shape: (seq_len,1,28,28), and we will add in the batch dimension in the loop below\n",
    "trainloader = torch.utils.data.DataLoader(train_data, batch_size=seq_len, shuffle=True)\n",
    "\n",
    "# for step in tqdm(range(steps)):\n",
    "step = 0\n",
    "task_list = []\n",
    "for images, labels in tqdm(trainloader):\n",
    "    start = torch.cuda.Event(enable_timing=True)\n",
    "    end = torch.cuda.Event(enable_timing=True)\n",
    "    start.record()\n",
    "    # images, labels = task_gen.get_batch(batch_size,seq_len=seq_len,device=device)\n",
    "    \n",
    "    # add batch dimension\n",
    "    images = torch.unsqueeze(images, 0).to(device)\n",
    "    labels = torch.unsqueeze(labels, 0).to(device)\n",
    "    # transform a batch, using a randomly selected task num from our list of n_tasks for each sequence in the batch, concatenated along the batch dimension\n",
    "    for i in range(batch_size):\n",
    "        if i == 0:\n",
    "            images, labels, curr_seed = dataset_utils.get_transformed_batch(images, labels, seed=np.random.randint(n_tasks))\n",
    "        else:\n",
    "            temp_images, temp_labels, curr_seed = dataset_utils.get_transformed_batch(images, labels, seed=np.random.randint(n_tasks))\n",
    "            images = torch.cat((images, temp_images), 0)\n",
    "            labels = torch.cat((labels, temp_labels), 0)\n",
    "        task_list.append(curr_seed)\n",
    "    end.record()\n",
    "    torch.cuda.synchronize()\n",
    "    data_avg_t += start.elapsed_time(end)\n",
    "\n",
    "    start = torch.cuda.Event(enable_timing=True)\n",
    "    end = torch.cuda.Event(enable_timing=True)\n",
    "\n",
    "    start.record()\n",
    "    optimizer.zero_grad()\n",
    "    outputs = model((images,labels))\n",
    "    pred = outputs[:,-1,:]\n",
    "    loss = criterion(pred,labels[:,-1])\n",
    "    loss.backward()\n",
    "    optimizer.step()\n",
    "    end.record()\n",
    "    torch.cuda.synchronize()\n",
    "    loss_avg_t += start.elapsed_time(end)\n",
    "    loss_history[step] = loss.item()\n",
    "    step += 1\n",
    "\n",
    "loss_history = np.array(loss_history)\n",
    "plt.plot(loss_history)\n",
    "print(\"\\nDATA: \", data_avg_t/steps)\n",
    "print(\"LOSS: \", loss_avg_t/steps)"
   ]
  },
  {
   "cell_type": "code",
   "execution_count": null,
   "metadata": {},
   "outputs": [],
   "source": [
    "def test_model(model, task_generator, batch_size=32, seq_len=50, num_batch=50, device='cuda'):\n",
    "    correct = 0\n",
    "    model.eval()\n",
    "    for batch in tqdm(range(num_batch)):\n",
    "        images, labels = task_generator.get_batch(batch_size,seq_len=seq_len,device=device)\n",
    "        outputs = model((images,labels))\n",
    "        pred = outputs[:,-1,:]\n",
    "        loss = criterion(pred,labels[:,-1])\n",
    "        _, predicted = torch.max(pred, 1)\n",
    "        correct += (predicted == labels[:,-1]).sum()\n",
    "    accuracy = 100 * (correct.item()) / (batch_size*num_batch)\n",
    "    print(correct.item())\n",
    "    print(accuracy)"
   ]
  },
  {
   "cell_type": "code",
   "execution_count": null,
   "metadata": {},
   "outputs": [],
   "source": [
    "test_task_gen = dataset_utils.RandomTasks(test_data, num_tasks=n_tasks)\n",
    "test_model(model, test_task_gen, batch_size=32, num_batch=50, seq_len=seq_len)"
   ]
  },
  {
   "cell_type": "code",
   "execution_count": 5,
   "metadata": {},
   "outputs": [
    {
     "name": "stderr",
     "output_type": "stream",
     "text": [
      "1875it [02:50, 10.98it/s]\n"
     ]
    },
    {
     "name": "stdout",
     "output_type": "stream",
     "text": [
      "2.3932494183381396\n"
     ]
    },
    {
     "data": {
      "image/png": "[encoded data removed]",
      "text/plain": [
       "<Figure size 640x480 with 1 Axes>"
      ]
     },
     "metadata": {},
     "output_type": "display_data"
    }
   ],
   "source": [
    "from tqdm import tqdm\n",
    "#train the model to do MNIST classification\n",
    "\n",
    "batch_size = 32\n",
    "lr = 0.01\n",
    "momentum = 0.9\n",
    "epochs = 1\n",
    "log_freq = 100\n",
    "device = 'cuda'\n",
    "\n",
    "model = model.to(device)\n",
    "\n",
    "train_loader = torch.utils.data.DataLoader(dataset=train_data, batch_size=batch_size, shuffle=True, num_workers=8, pin_memory=True)\n",
    "test_loader = torch.utils.data.DataLoader(dataset=test_data, batch_size=batch_size, shuffle=False, num_workers=8, pin_memory=True)\n",
    "\n",
    "optimizer = torch.optim.SGD(model.parameters(), lr=lr, momentum=momentum)\n",
    "criterion = torch.nn.CrossEntropyLoss()\n",
    "lr_scheduler = torch.optim.lr_scheduler.MultiStepLR(optimizer, milestones=[50])\n",
    "\n",
    "loss_history = []\n",
    "seeds = []\n",
    "for epoch in range(epochs):\n",
    "    model.train()\n",
    "    epoch_loss = [0]*(len(train_data)//batch_size)\n",
    "    for i, (images, labels) in tqdm(enumerate(train_loader)):\n",
    "        images, labels = images.to(device), labels.to(device)\n",
    "        # apply transform\n",
    "        aug_images, aug_labels, seed = dataset_utils.get_transformed_batch(images, labels, seed=i)\n",
    "        seeds.append(seed)\n",
    "        optimizer.zero_grad()\n",
    "        images = aug_images.unsqueeze(1)\n",
    "        labels = aug_labels.unsqueeze(1)\n",
    "        B,T,C,W,H = images.shape\n",
    "        images = images.reshape(T,B,C,W,H) #hack for now -- make batch dimension into sequence\n",
    "        labels = labels.reshape(T,B)\n",
    "        outputs = model((images,labels))\n",
    "        pred = outputs[:,-1,:]\n",
    "        loss = criterion(pred,labels[:,-1])\n",
    "        loss.backward()\n",
    "        optimizer.step()\n",
    "        epoch_loss[i] = loss.item()\n",
    "\n",
    "    lr_scheduler.step()\n",
    "    loss_history += epoch_loss\n",
    "    epoch_loss = np.array(epoch_loss)\n",
    "    print(epoch_loss.mean())\n",
    "\n",
    "loss_history = np.array(loss_history)\n",
    "plt.plot(loss_history);"
   ]
  },
  {
   "cell_type": "code",
   "execution_count": 8,
   "metadata": {},
   "outputs": [],
   "source": [
    "def test_model(model, dataset, batch_size=150, device='cuda'):\n",
    "    loader = torch.utils.data.DataLoader(dataset=dataset, batch_size=batch_size, shuffle=False, num_workers=2, pin_memory=True)\n",
    "    correct = 0\n",
    "    model.eval()\n",
    "    for i,(images, labels) in tqdm(enumerate(loader)):\n",
    "        images, labels = images.to(device), labels.to(device)\n",
    "        # apply transform\n",
    "        images, labels, seed = dataset_utils.get_transformed_batch(images, labels, seed=i)\n",
    "        images = images.unsqueeze(1)\n",
    "        labels = labels.unsqueeze(1)\n",
    "        outputs = model((images,labels))\n",
    "        _, predicted = torch.max(outputs.data, 1)\n",
    "        correct += (predicted == labels).sum()\n",
    "    accuracy = 100 * (correct.item()) / len(dataset)\n",
    "    print(accuracy)"
   ]
  },
  {
   "cell_type": "code",
   "execution_count": 10,
   "metadata": {},
   "outputs": [
    {
     "name": "stderr",
     "output_type": "stream",
     "text": [
      "0it [00:00, ?it/s]"
     ]
    },
    {
     "name": "stderr",
     "output_type": "stream",
     "text": [
      "67it [00:02, 24.44it/s]"
     ]
    },
    {
     "name": "stdout",
     "output_type": "stream",
     "text": [
      "98.0\n"
     ]
    },
    {
     "name": "stderr",
     "output_type": "stream",
     "text": [
      "\n"
     ]
    }
   ],
   "source": [
    "test_model(model, test_data) #80% test accuracy"
   ]
  },
  {
   "cell_type": "code",
   "execution_count": null,
   "metadata": {},
   "outputs": [],
   "source": []
  }
 ],
 "metadata": {
  "kernelspec": {
   "display_name": "Python 3 (ipykernel)",
   "language": "python",
   "name": "python3"
  },
  "language_info": {
   "codemirror_mode": {
    "name": "ipython",
    "version": 3
   },
   "file_extension": ".py",
   "mimetype": "text/x-python",
   "name": "python",
   "nbconvert_exporter": "python",
   "pygments_lexer": "ipython3",
   "version": "3.11.5"
  }
 },
 "nbformat": 4,
 "nbformat_minor": 2
}
